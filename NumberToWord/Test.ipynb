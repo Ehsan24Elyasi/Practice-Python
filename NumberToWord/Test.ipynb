{
 "cells": [
  {
   "cell_type": "code",
   "execution_count": 37,
   "id": "2419bd30",
   "metadata": {},
   "outputs": [],
   "source": [
    "UNDER_20 = [\n",
    "    \"Zero\",\n",
    "    \"One\",\n",
    "    \"Two\",\n",
    "    \"Three\",\n",
    "    \"Four\",\n",
    "    \"Five\",\n",
    "    \"Six\",\n",
    "    \"Seven\",\n",
    "    \"Eight\",\n",
    "    \"Nine\",\n",
    "    \"Ten\",\n",
    "    \"Eleven\",\n",
    "    \"Twelve\",\n",
    "    \"Thirteen\",\n",
    "    \"Fourteen\",\n",
    "    \"Fifteen\",\n",
    "    \"Sixteen\",\n",
    "    \"Seventeen\",\n",
    "    \"Eighteen\",\n",
    "    \"Nineteen\",\n",
    "]\n",
    "\n",
    "TENS = [\n",
    "    \"\",\n",
    "    \"\",\n",
    "    \"Twenty\",\n",
    "    \"Thirty\",\n",
    "    \"Forty\",\n",
    "    \"Fifty\",\n",
    "    \"Sixty\",\n",
    "    \"Seventy\",\n",
    "    \"Eighty\",\n",
    "    \"Ninety\",\n",
    "]\n",
    "\n",
    "ABOVE_100 = {\n",
    "    100: \"Hundred\",\n",
    "    1000: \"Thousand\",\n",
    "    1000000: \"Million\",\n",
    "    1000000000: \"Billion\",\n",
    "}"
   ]
  },
  {
   "cell_type": "code",
   "execution_count": 55,
   "id": "f3a94ff4",
   "metadata": {},
   "outputs": [],
   "source": [
    "def num_to_word(num):\n",
    "    if num < 20:\n",
    "        return UNDER_20[num]\n",
    "    elif num < 100:\n",
    "        remainder = num % 10\n",
    "        if remainder == 0:\n",
    "            return TENS[num // 10]\n",
    "        else:\n",
    "             return TENS[num // 10] + \" \" + UNDER_20[remainder]\n",
    "    else:\n",
    "        pivot = max ([key for key in ABOVE_100 if key <= num])\n",
    "        p1 = num_to_word(num // pivot)\n",
    "        p2 = ABOVE_100[pivot]\n",
    "        if num % pivot == 0:\n",
    "            return f'{p1}  {p2}'\n",
    "        else:\n",
    "            return f'{p1}  {p2} {num_to_word(num % pivot)}'"
   ]
  },
  {
   "cell_type": "code",
   "execution_count": 54,
   "id": "c822f7c5",
   "metadata": {},
   "outputs": [
    {
     "data": {
      "text/plain": [
       "'Five  Hundred Sixty'"
      ]
     },
     "execution_count": 54,
     "metadata": {},
     "output_type": "execute_result"
    }
   ],
   "source": [
    "num_to_word(560)"
   ]
  },
  {
   "cell_type": "code",
   "execution_count": null,
   "id": "6606eb33",
   "metadata": {},
   "outputs": [],
   "source": []
  }
 ],
 "metadata": {
  "kernelspec": {
   "display_name": "Python 3",
   "language": "python",
   "name": "python3"
  },
  "language_info": {
   "codemirror_mode": {
    "name": "ipython",
    "version": 3
   },
   "file_extension": ".py",
   "mimetype": "text/x-python",
   "name": "python",
   "nbconvert_exporter": "python",
   "pygments_lexer": "ipython3",
   "version": "3.11.8"
  }
 },
 "nbformat": 4,
 "nbformat_minor": 5
}
